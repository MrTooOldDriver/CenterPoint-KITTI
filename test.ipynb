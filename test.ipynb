{
 "cells": [
  {
   "cell_type": "code",
   "execution_count": 31,
   "metadata": {},
   "outputs": [],
   "source": [
    "import numpy as np "
   ]
  },
  {
   "cell_type": "code",
   "execution_count": 32,
   "metadata": {},
   "outputs": [],
   "source": [
    "# a = np.load('./data/vod_lidar/kitti_infos_trainval.pkl', allow_pickle=True)\n",
    "# a = np.load('./data/vod_lidar/kitti_infos_train.pkl', allow_pickle=True)\n",
    "a = np.load('./data/vod_lidar/kitti_infos_val.pkl', allow_pickle=True)"
   ]
  },
  {
   "cell_type": "code",
   "execution_count": 33,
   "metadata": {},
   "outputs": [
    {
     "data": {
      "text/plain": [
       "dict_keys(['point_cloud', 'image', 'calib', 'annos'])"
      ]
     },
     "execution_count": 33,
     "metadata": {},
     "output_type": "execute_result"
    }
   ],
   "source": [
    "a[0].keys()"
   ]
  },
  {
   "cell_type": "code",
   "execution_count": 34,
   "metadata": {},
   "outputs": [
    {
     "data": {
      "text/plain": [
       "array(['bicycle', 'Car', 'motor', 'Pedestrian', 'Pedestrian',\n",
       "       'Pedestrian', 'Pedestrian', 'ride_other', 'truck', 'bicycle',\n",
       "       'Pedestrian', 'Pedestrian'], dtype='<U10')"
      ]
     },
     "execution_count": 34,
     "metadata": {},
     "output_type": "execute_result"
    }
   ],
   "source": [
    "a[0]['annos']['name']"
   ]
  },
  {
   "cell_type": "code",
   "execution_count": 35,
   "metadata": {},
   "outputs": [],
   "source": [
    "cars = 0\n",
    "pedestrians = 0\n",
    "cyclists = 0\n",
    "for frame in a:\n",
    "    for anno_names in frame['annos']['name']:\n",
    "        if anno_names== 'Car':\n",
    "            cars += 1\n",
    "        elif anno_names == 'Pedestrian':\n",
    "            pedestrians += 1\n",
    "        elif anno_names == 'Cyclist':\n",
    "            cyclists += 1\n",
    "        else:\n",
    "            continue"
   ]
  },
  {
   "cell_type": "code",
   "execution_count": 36,
   "metadata": {},
   "outputs": [
    {
     "name": "stdout",
     "output_type": "stream",
     "text": [
      "car 4291\n",
      "pedestrians 3749\n",
      "cyclists 1434\n"
     ]
    }
   ],
   "source": [
    "print('car', cars)\n",
    "print('pedestrians', pedestrians)\n",
    "print('cyclists', cyclists)"
   ]
  }
 ],
 "metadata": {
  "kernelspec": {
   "display_name": "base",
   "language": "python",
   "name": "python3"
  },
  "language_info": {
   "codemirror_mode": {
    "name": "ipython",
    "version": 3
   },
   "file_extension": ".py",
   "mimetype": "text/x-python",
   "name": "python",
   "nbconvert_exporter": "python",
   "pygments_lexer": "ipython3",
   "version": "3.7.11"
  },
  "orig_nbformat": 4
 },
 "nbformat": 4,
 "nbformat_minor": 2
}
